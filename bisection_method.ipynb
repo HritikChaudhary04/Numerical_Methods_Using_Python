{
 "cells": [
  {
   "cell_type": "markdown",
   "metadata": {},
   "source": [
    "## Bisection Method"
   ]
  },
  {
   "cell_type": "code",
   "execution_count": 4,
   "metadata": {},
   "outputs": [],
   "source": [
    "import math\n",
    "import numpy as np\n",
    "\n",
    "def fun(x):\n",
    "    y=np.exp(x)-3*x\n",
    "    return y\n",
    "\n",
    "def step(a,b,eps):\n",
    "    n=np.ceil((np.log((b-a)/eps))/np.log(2))\n",
    "    return n"
   ]
  },
  {
   "cell_type": "code",
   "execution_count": 5,
   "metadata": {},
   "outputs": [],
   "source": [
    "def root(a,b,eps):\n",
    "    diff= 1\n",
    "    count=1\n",
    "   \n",
    "    it=step(a,b,eps)\n",
    "    \n",
    "    print(f\"The number of iteration required are {it}\")\n",
    "    print(\"    Iteration\\t\\ta\\t\\t f(a)\\t\\t b\\t\\t f(b)\\t\\t x1\\t\\t f(x1)\")\n",
    "    print(\"    ----------\\t\\t---------\\t-------\\t\\t-------\\t\\t---------\\t---------\\t---------\")\n",
    "    \n",
    "    while (count<=it):\n",
    "        x1=(a+b)/2\n",
    "        print(f\"\\t{count}\\t\\t{a:.4f}\\t\\t{fun(a):.4f}\\t\\t{b:.4f}\\t\\t{fun(b):.4f}\\t\\t{x1:.4f}\\t\\t{fun(x1):.4f}\")\n",
    "        if fun(a)*fun(x1)<0:\n",
    "            b=x1\n",
    "        elif fun(x1)*fun(b)<0:\n",
    "            a=x1\n",
    "        else:\n",
    "            print(f\"Root is {x1}\")\n",
    "            break\n",
    "        \n",
    "        count=count+1\n",
    "    \n",
    "    return(x1,count)"
   ]
  },
  {
   "cell_type": "code",
   "execution_count": 6,
   "metadata": {},
   "outputs": [
    {
     "name": "stdout",
     "output_type": "stream",
     "text": [
      "The number of iteration required are 6.0\n",
      "    Iteration\t\ta\t\t f(a)\t\t b\t\t f(b)\t\t x1\t\t f(x1)\n",
      "    ----------\t\t---------\t-------\t\t-------\t\t---------\t---------\t---------\n",
      "\t1\t\t1.4000\t\t-0.1448\t\t1.6000\t\t0.1530\t\t1.5000\t\t-0.0183\n",
      "\t2\t\t1.5000\t\t-0.0183\t\t1.6000\t\t0.1530\t\t1.5500\t\t0.0615\n",
      "\t3\t\t1.5000\t\t-0.0183\t\t1.5500\t\t0.0615\t\t1.5250\t\t0.0201\n",
      "\t4\t\t1.5000\t\t-0.0183\t\t1.5250\t\t0.0201\t\t1.5125\t\t0.0006\n",
      "\t5\t\t1.5000\t\t-0.0183\t\t1.5125\t\t0.0006\t\t1.5063\t\t-0.0090\n",
      "\t6\t\t1.5063\t\t-0.0090\t\t1.5125\t\t0.0006\t\t1.5094\t\t-0.0042\n",
      "\n",
      "the root is 1.509 and total iteration taken is 6 in interval [1.4,1.6]\n"
     ]
    }
   ],
   "source": [
    "a=float(input(\"Enter the lower bound of interval\"))\n",
    "b=float(input(\"Enter the higher bound of interval\"))\n",
    "eps=float(input(\"Enter the value of epsilon\"))\n",
    "\n",
    "x1,count=root(a,b,eps)\n",
    "\n",
    "print(f\"\\nthe root is {x1:.3f} and total iteration taken is {count-1} in interval [{a},{b}]\")"
   ]
  }
 ],
 "metadata": {
  "kernelspec": {
   "display_name": "Python 3",
   "language": "python",
   "name": "python3"
  },
  "language_info": {
   "codemirror_mode": {
    "name": "ipython",
    "version": 3
   },
   "file_extension": ".py",
   "mimetype": "text/x-python",
   "name": "python",
   "nbconvert_exporter": "python",
   "pygments_lexer": "ipython3",
   "version": "3.11.4"
  },
  "orig_nbformat": 4
 },
 "nbformat": 4,
 "nbformat_minor": 2
}
