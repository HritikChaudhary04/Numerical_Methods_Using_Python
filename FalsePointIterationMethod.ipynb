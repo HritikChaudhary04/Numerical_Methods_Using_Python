{
 "cells": [
  {
   "cell_type": "markdown",
   "metadata": {},
   "source": [
    "## False Point Iteration Method"
   ]
  },
  {
   "cell_type": "code",
   "execution_count": 1,
   "metadata": {},
   "outputs": [],
   "source": [
    "import math\n",
    "import numpy as np\n",
    "\n",
    "def fun(x):\n",
    "    y=2*x*np.cos(2*x)-(x+1)**2\n",
    "    return y"
   ]
  },
  {
   "cell_type": "code",
   "execution_count": 2,
   "metadata": {},
   "outputs": [],
   "source": [
    "def root(a,b,eps):\n",
    "    diff= 1\n",
    "    count=1\n",
    "    print(\"    Iteration\\t\\t   a \\t\\t\\t   b \\t\\t x1 \\t\\t f(x1)\")\n",
    "    print(\"    ----------\\t\\t---------\\t\\t-------\\t\\t-------\\t\\t---------\")\n",
    "    x1=2\n",
    "    while ((abs(diff)>eps)):\n",
    "        x2=x1\n",
    "        x1=(a*fun(b)-b*fun(a))/(fun(b)-fun(a))\n",
    "        print(f\"\\t{count}\\t\\t{a:.5f}\\t\\t\\t{b:.5f}\\t\\t{x1:.5f}\\t\\t{fun(x1):.5f}\")\n",
    "        if fun(a)*fun(x1)<0:\n",
    "            b=x1\n",
    "        elif fun(x1)*fun(b)<0:\n",
    "            a=x1\n",
    "        else:\n",
    "            print(f\"Root is {x1}\")\n",
    "            break\n",
    "        \n",
    "        count=count+1\n",
    "        diff=x1-x2\n",
    "        \n",
    "    \n",
    "    return(x1,count)"
   ]
  },
  {
   "cell_type": "code",
   "execution_count": 3,
   "metadata": {},
   "outputs": [
    {
     "name": "stdout",
     "output_type": "stream",
     "text": [
      "    Iteration\t\t   a \t\t\t   b \t\t x1 \t\t f(x1)\n",
      "    ----------\t\t---------\t\t-------\t\t-------\t\t---------\n",
      "\t1\t\t-3.00000\t\t\t-2.00000\t\t-2.14193\t\t0.47605\n",
      "\t2\t\t-3.00000\t\t\t-2.14193\t\t-2.18184\t\t0.09430\n",
      "\t3\t\t-3.00000\t\t\t-2.18184\t\t-2.18966\t\t0.01646\n",
      "\t4\t\t-3.00000\t\t\t-2.18966\t\t-2.19103\t\t0.00280\n",
      "\t5\t\t-3.00000\t\t\t-2.19103\t\t-2.19126\t\t0.00047\n",
      "\n",
      "the root is -2.191 and total iteration taken is 5 in interval [-3.0,-2.0]\n"
     ]
    }
   ],
   "source": [
    "a=float(input(\"Enter the lower bound of interval\"))\n",
    "b=float(input(\"Enter the higher bound of interval\"))\n",
    "eps=float(input(\"Enter the value of epsilon\"))\n",
    "\n",
    "x1,count=root(a,b,eps)\n",
    "\n",
    "print(f\"\\nthe root is {x1:.3f} and total iteration taken is {count-1} in interval [{a},{b}]\")"
   ]
  }
 ],
 "metadata": {
  "kernelspec": {
   "display_name": "Python 3",
   "language": "python",
   "name": "python3"
  },
  "language_info": {
   "codemirror_mode": {
    "name": "ipython",
    "version": 3
   },
   "file_extension": ".py",
   "mimetype": "text/x-python",
   "name": "python",
   "nbconvert_exporter": "python",
   "pygments_lexer": "ipython3",
   "version": "3.11.4"
  },
  "orig_nbformat": 4
 },
 "nbformat": 4,
 "nbformat_minor": 2
}
