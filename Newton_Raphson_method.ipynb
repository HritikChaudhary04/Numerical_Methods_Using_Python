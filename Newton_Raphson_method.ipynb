{
 "cells": [
  {
   "cell_type": "markdown",
   "metadata": {},
   "source": [
    "## Newton Raphson Method"
   ]
  },
  {
   "cell_type": "markdown",
   "metadata": {},
   "source": [
    "### question: Aproximate a root of the equation $x^4-3x^2-3=0$ correct to 3 decimal places with inital guess $x0=1$"
   ]
  },
  {
   "cell_type": "code",
   "execution_count": 43,
   "metadata": {},
   "outputs": [],
   "source": [
    "import math\n",
    "import numpy as np\n",
    "from sympy import *"
   ]
  },
  {
   "cell_type": "code",
   "execution_count": 44,
   "metadata": {},
   "outputs": [],
   "source": [
    "\n",
    "def fun(x):\n",
    "    y=x**3-x-1\n",
    "    print(y)\n",
    "    return y\n",
    "\n",
    "def fun_der(x):\n",
    "    z=3*x**2-1\n",
    "    print(z)\n",
    "    return z\n",
    "\n",
    "def root(x0,eps):\n",
    "    diff= 1\n",
    "    count=1\n",
    "    print(\"Iteration  |\\t Root\")\n",
    "    print(\"---------- \\t-------\")\n",
    "    while diff>=eps:\n",
    "        x1=x0-(fun(x0)/fun_der(x0))\n",
    "        diff=abs(x1-x0)\n",
    "        x0=x1\n",
    "    \n",
    "        print(f\"{count} \\t   |\\t {x1:.4f}\")\n",
    "        count=count+1\n",
    "    return(x1,count)\n"
   ]
  },
  {
   "cell_type": "code",
   "execution_count": 45,
   "metadata": {},
   "outputs": [
    {
     "name": "stdout",
     "output_type": "stream",
     "text": [
      "Iteration  |\t Root\n",
      "---------- \t-------\n",
      "-1.0\n",
      "2.0\n",
      "1 \t   |\t 1.5000\n",
      "0.875\n",
      "5.75\n",
      "2 \t   |\t 1.3478\n",
      "0.10068217309114824\n",
      "4.449905482041588\n",
      "3 \t   |\t 1.3252\n",
      "0.0020583619166634204\n",
      "4.2684682921389285\n",
      "4 \t   |\t 1.3247\n",
      "\n",
      "the root is 1.325 and total iteration taken is 4\n"
     ]
    }
   ],
   "source": [
    "x0=float(input(\"Enter the intial guess \"))\n",
    "eps=float(input(\"Enter the value of epsilon\"))\n",
    "\n",
    "x1,count=root(x0,eps)\n",
    "\n",
    "print(f\"\\nthe root is {x1:.3f} and total iteration taken is {count-1}\")"
   ]
  }
 ],
 "metadata": {
  "kernelspec": {
   "display_name": "Python 3",
   "language": "python",
   "name": "python3"
  },
  "language_info": {
   "codemirror_mode": {
    "name": "ipython",
    "version": 3
   },
   "file_extension": ".py",
   "mimetype": "text/x-python",
   "name": "python",
   "nbconvert_exporter": "python",
   "pygments_lexer": "ipython3",
   "version": "3.11.4"
  },
  "orig_nbformat": 4
 },
 "nbformat": 4,
 "nbformat_minor": 2
}
