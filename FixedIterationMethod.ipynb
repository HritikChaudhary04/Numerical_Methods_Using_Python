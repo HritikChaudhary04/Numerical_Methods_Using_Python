{
 "cells": [
  {
   "cell_type": "markdown",
   "metadata": {},
   "source": [
    "# Fixed Point Iteration Method\n"
   ]
  },
  {
   "cell_type": "markdown",
   "metadata": {},
   "source": [
    "##### Question: Implement fixed pint Iteration method to approximate a root of the equation $cosx=3x-1$"
   ]
  },
  {
   "cell_type": "code",
   "execution_count": 1,
   "metadata": {},
   "outputs": [],
   "source": [
    "import numpy as np\n",
    "import math\n",
    "import matplotlib.pyplot as plt"
   ]
  },
  {
   "cell_type": "code",
   "execution_count": 2,
   "metadata": {},
   "outputs": [],
   "source": [
    "#User Defined Function\n",
    "\n",
    "def phi(x):\n",
    "    y=(1+np.cos(x))/3\n",
    "    return y\n",
    "\n",
    "def root(x0,eps):\n",
    "    diff= 1\n",
    "    count=1\n",
    "    x=True\n",
    "    \n",
    "    z=np.linspace(0,1,1500)\n",
    "    y_dr=-np.sin(z)/3\n",
    "    if y_dr.all()<1:\n",
    "        print(\"Function conversion is valid\")\n",
    "    else:\n",
    "        print(\"Function Conversion is invalid\")\n",
    "        x=False\n",
    "    \n",
    "    if x==True:    \n",
    "        print(\"\\nIteration  |\\t Root\")\n",
    "        print(\"_______________________\")\n",
    "        while diff>=eps:\n",
    "            x1=phi(x0)\n",
    "            diff=abs(x1-x0)\n",
    "            x0=x1\n",
    "        \n",
    "            print(f\"{count} \\t   |\\t {x1:.3f}\")\n",
    "            count=count+1\n",
    "        return(x1,count)\n",
    "    else:\n",
    "        return(0,1)\n",
    "\n",
    "\n",
    "\n",
    "    \n",
    "\n"
   ]
  },
  {
   "cell_type": "code",
   "execution_count": 3,
   "metadata": {},
   "outputs": [
    {
     "name": "stdout",
     "output_type": "stream",
     "text": [
      "Function conversion is valid\n",
      "\n",
      "Iteration  |\t Root\n",
      "_______________________\n",
      "1 \t   |\t 0.667\n",
      "2 \t   |\t 0.595\n",
      "3 \t   |\t 0.609\n",
      "4 \t   |\t 0.607\n",
      "5 \t   |\t 0.607\n",
      "6 \t   |\t 0.607\n",
      "\n",
      "the root is 0.607 and total iteration taken is 6\n"
     ]
    }
   ],
   "source": [
    "x0=int(input(\"Enter the intial guess \"))\n",
    "eps=float(input(\"Enter the value of epsilon\"))\n",
    "\n",
    "x1,count=root(x0,eps)\n",
    "\n",
    "if (x1==0 and count==1 ):\n",
    "    print(\"change your expression\")\n",
    "else:\n",
    "    print(f\"\\nthe root is {x1:.3f} and total iteration taken is {count-1}\")"
   ]
  },
  {
   "cell_type": "code",
   "execution_count": 22,
   "metadata": {},
   "outputs": [],
   "source": [
    "import numpy as np\n",
    "import math\n",
    "import matplotlib.pyplot as plt"
   ]
  },
  {
   "cell_type": "code",
   "execution_count": 23,
   "metadata": {},
   "outputs": [],
   "source": [
    "#User Defined Function\n",
    "\n",
    "def phi(x):\n",
    "    y=(np.arctan(1/np.exp(x)))\n",
    "    return y\n",
    "\n",
    "def root(x0,eps):\n",
    "    diff= 1\n",
    "    count=1\n",
    "    x=True\n",
    "    \n",
    "    z=np.linspace(0.8,0.9,1500)\n",
    "    y_dr=abs(2*z-1)\n",
    "    if y_dr.all()<1:\n",
    "        print(\"Function conversion is valid\")\n",
    "    else:\n",
    "        print(\"Function Conversion is invalid\")\n",
    "        x=False\n",
    "    \n",
    "    if x==True:    \n",
    "        print(\"\\nIteration  |\\t Root\")\n",
    "        print(\"_______________________\")\n",
    "        while diff>=eps:\n",
    "            x1=phi(x0)\n",
    "            diff=abs(x1-x0)\n",
    "            x0=x1\n",
    "        \n",
    "            print(f\"{count} \\t   |\\t {x1:.3f}\")\n",
    "            count=count+1\n",
    "        return(x1,count)\n",
    "    else:\n",
    "        return(0,1)\n",
    "    \n",
    "\n",
    "\n",
    "\n",
    "    \n",
    "\n"
   ]
  },
  {
   "cell_type": "code",
   "execution_count": 24,
   "metadata": {},
   "outputs": [
    {
     "name": "stdout",
     "output_type": "stream",
     "text": [
      "Function Conversion is invalid\n",
      "change your expression\n"
     ]
    }
   ],
   "source": [
    "x0=float(input(\"Enter the intial guess \"))\n",
    "eps=float(input(\"Enter the value of epsilon\"))\n",
    "\n",
    "x1,count=root(x0,eps)\n",
    "if (x1==0 and count==1 ):\n",
    "    print(\"change your expression\")\n",
    "else:\n",
    "    print(f\"\\nthe root is {x1:.3f} and total iteration taken is {count-1}\")"
   ]
  }
 ],
 "metadata": {
  "kernelspec": {
   "display_name": "Python 3",
   "language": "python",
   "name": "python3"
  },
  "language_info": {
   "codemirror_mode": {
    "name": "ipython",
    "version": 3
   },
   "file_extension": ".py",
   "mimetype": "text/x-python",
   "name": "python",
   "nbconvert_exporter": "python",
   "pygments_lexer": "ipython3",
   "version": "3.11.4"
  },
  "orig_nbformat": 4
 },
 "nbformat": 4,
 "nbformat_minor": 2
}
