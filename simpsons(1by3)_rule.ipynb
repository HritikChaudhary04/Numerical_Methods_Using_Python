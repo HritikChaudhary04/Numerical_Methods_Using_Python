{
 "cells": [
  {
   "cell_type": "markdown",
   "metadata": {},
   "source": [
    "## Implementing Simpson's 1/3 rule for Integration By Hritik Chaudhary CM-21"
   ]
  },
  {
   "cell_type": "code",
   "execution_count": 1,
   "metadata": {},
   "outputs": [],
   "source": [
    "import numpy as np\n",
    "import math"
   ]
  },
  {
   "cell_type": "code",
   "execution_count": 4,
   "metadata": {},
   "outputs": [
    {
     "name": "stdout",
     "output_type": "stream",
     "text": [
      "for h = 0.1\n",
      "\n",
      "The approximation of integral for step 20 is 1.494\n",
      "for h = 0.06666666666666667\n",
      "\n",
      "The approximation of integral for step 30 is 1.494\n",
      "for h = 0.05\n",
      "\n",
      "The approximation of integral for step 40 is 1.494\n",
      "for h = 0.04\n",
      "\n",
      "The approximation of integral for step 50 is 1.494\n",
      "for h = 0.02\n",
      "\n",
      "The approximation of integral for step 100 is 1.494\n",
      "for h = 0.002\n",
      "\n",
      "The approximation of integral for step 1000 is 1.494\n"
     ]
    }
   ],
   "source": [
    "def fun(x):\n",
    "    y=np.exp(-x**2)\n",
    "    return y\n",
    "\n",
    "def trap(a,b,n):\n",
    "    h=np.abs((b-a)/n)\n",
    "    print(f'for h = {h}\\n')\n",
    "    sum=fun(a)+fun(b)\n",
    "    i=1\n",
    "    while i<n:\n",
    "        if i%2==1:\n",
    "            sum=sum+4*fun(a+i*h) # yedi index odd bhayo bhane 4 le multply ani add garne\n",
    "        else:\n",
    "            sum=sum+2*fun(a+i*h) # yedi index even bhayo bhane 2 le multiply ani add garne\n",
    "        i=i+1\n",
    "    sum=(h/3)*sum #last ma h/3 le multiply ani hamro formula aaucha\n",
    "    return sum\n",
    "\n",
    "a=-1\n",
    "b=1\n",
    "\n",
    "n_value=[20,30,40,50,100,1000]\n",
    "\n",
    "for n in n_value:\n",
    "    print(f'The approximation of integral for step {n} is {trap(a,b,n):.3f}') "
   ]
  },
  {
   "cell_type": "code",
   "execution_count": null,
   "metadata": {},
   "outputs": [],
   "source": []
  }
 ],
 "metadata": {
  "kernelspec": {
   "display_name": "Python 3",
   "language": "python",
   "name": "python3"
  },
  "language_info": {
   "codemirror_mode": {
    "name": "ipython",
    "version": 3
   },
   "file_extension": ".py",
   "mimetype": "text/x-python",
   "name": "python",
   "nbconvert_exporter": "python",
   "pygments_lexer": "ipython3",
   "version": "3.11.4"
  }
 },
 "nbformat": 4,
 "nbformat_minor": 2
}
