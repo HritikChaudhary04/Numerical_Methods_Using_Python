{
 "cells": [
  {
   "cell_type": "markdown",
   "metadata": {},
   "source": [
    "## Problem 1:Discriminant of equation"
   ]
  },
  {
   "cell_type": "markdown",
   "metadata": {},
   "source": [
    "#### Find the discriminat and say if roots are real or imaginary"
   ]
  },
  {
   "cell_type": "code",
   "execution_count": 15,
   "metadata": {},
   "outputs": [],
   "source": [
    "def root(a,b,c):\n",
    "    d=b**2-4*a*c\n",
    "    print(\"value of discriminat is \",d)\n",
    "    if d==0:\n",
    "            print(\"The roots are equal and real \")\n",
    "    elif d<0:\n",
    "            print(\"Theroots are different and imaginary \")\n",
    "    else:\n",
    "            print(\"The roots are different and real\")\n",
    "    return(((-b+d**0.5)/2*a),((-b-d**0.5)/2*a))\n",
    "            "
   ]
  },
  {
   "cell_type": "code",
   "execution_count": 16,
   "metadata": {},
   "outputs": [
    {
     "name": "stdout",
     "output_type": "stream",
     "text": [
      "value of discriminat is  -8\n",
      "Theroots are different and imaginary \n"
     ]
    },
    {
     "data": {
      "text/plain": [
       "((-0.9999999999999999+1.4142135623730951j), (-1-1.4142135623730951j))"
      ]
     },
     "execution_count": 16,
     "metadata": {},
     "output_type": "execute_result"
    }
   ],
   "source": [
    "root(1,2,3)"
   ]
  },
  {
   "cell_type": "markdown",
   "metadata": {},
   "source": [
    "# Problem 2: Sum of harmonic Mean"
   ]
  },
  {
   "cell_type": "markdown",
   "metadata": {},
   "source": [
    "### question: 1+1/2+1/3+...+1/n"
   ]
  },
  {
   "cell_type": "code",
   "execution_count": 6,
   "metadata": {},
   "outputs": [],
   "source": [
    "def sum(n):\n",
    "    s=0\n",
    "    for i in range(1,n+1):\n",
    "        s+=1/i\n",
    "    return s\n",
    "    "
   ]
  },
  {
   "cell_type": "code",
   "execution_count": 7,
   "metadata": {},
   "outputs": [
    {
     "data": {
      "text/plain": [
       "2.083333333333333"
      ]
     },
     "execution_count": 7,
     "metadata": {},
     "output_type": "execute_result"
    }
   ],
   "source": [
    "n=int(input(\"the total number of the element in sequence \"))\n",
    "sum(n)"
   ]
  },
  {
   "cell_type": "markdown",
   "metadata": {},
   "source": [
    "### question: 1-1/2+1/3-1/4+...+1/n"
   ]
  }
 ],
 "metadata": {
  "kernelspec": {
   "display_name": "Python 3",
   "language": "python",
   "name": "python3"
  },
  "language_info": {
   "codemirror_mode": {
    "name": "ipython",
    "version": 3
   },
   "file_extension": ".py",
   "mimetype": "text/x-python",
   "name": "python",
   "nbconvert_exporter": "python",
   "pygments_lexer": "ipython3",
   "version": "3.11.4"
  },
  "orig_nbformat": 4
 },
 "nbformat": 4,
 "nbformat_minor": 2
}
