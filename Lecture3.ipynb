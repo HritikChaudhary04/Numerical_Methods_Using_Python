{
 "cells": [
  {
   "cell_type": "markdown",
   "metadata": {},
   "source": [
    "### Numerical Method Implementation Using Python"
   ]
  },
  {
   "cell_type": "markdown",
   "metadata": {},
   "source": [
    "#### Fixed Point Iteration"
   ]
  },
  {
   "cell_type": "markdown",
   "metadata": {},
   "source": [
    "##### Question: Implement fixed pint Iteration method to approximate a root of the equation $cosx=3x-1$"
   ]
  },
  {
   "cell_type": "code",
   "execution_count": 5,
   "metadata": {},
   "outputs": [],
   "source": [
    "import numpy as np\n",
    "import math\n",
    "import matplotlib.pyplot as plt"
   ]
  },
  {
   "cell_type": "code",
   "execution_count": 27,
   "metadata": {},
   "outputs": [
    {
     "name": "stdout",
     "output_type": "stream",
     "text": [
      "Iteration  |\t Root\n",
      "_______________________\n",
      "1 \t   |\t 0.195\n",
      "2 \t   |\t 0.660\n",
      "3 \t   |\t 0.597\n",
      "4 \t   |\t 0.609\n",
      "5 \t   |\t 0.607\n",
      "6 \t   |\t 0.607\n",
      "the root of the equation is 0.607 which we obtatine in 6 steps\n"
     ]
    }
   ],
   "source": [
    "#User Defined Function\n",
    "\n",
    "def phi(x):\n",
    "    y=(1+np.cos(x))/3\n",
    "    return y\n",
    "\n",
    "x0=2\n",
    "eps=0.0005\n",
    "diff= 1\n",
    "count=1\n",
    "print(\"Iteration  |\\t Root\")\n",
    "print(\"_______________________\")\n",
    "while diff>=eps:\n",
    "    x1=phi(x0)\n",
    "    diff=abs(x1-x0)\n",
    "    x0=x1\n",
    "   \n",
    "    print(f\"{count} \\t   |\\t {x1:.3f}\")\n",
    "    count=count+1\n",
    "\n",
    "print(f\"the root of the equation is {x1:.3f} which we obtatine in {count-1} steps\")\n",
    "\n",
    "    \n",
    "\n"
   ]
  },
  {
   "cell_type": "markdown",
   "metadata": {},
   "source": [
    "## Newton Raphson Method"
   ]
  },
  {
   "cell_type": "markdown",
   "metadata": {},
   "source": [
    "### question: Aproximate a root of the equation $x^4-3x^2-3=0$ correct to 3 decimal places with inital guess $x0=1$"
   ]
  },
  {
   "cell_type": "code",
   "execution_count": 28,
   "metadata": {},
   "outputs": [],
   "source": [
    "import math\n",
    "import numpy as np"
   ]
  },
  {
   "cell_type": "code",
   "execution_count": 31,
   "metadata": {},
   "outputs": [
    {
     "name": "stdout",
     "output_type": "stream",
     "text": [
      "Iteration  |\t Root\n",
      "---------- \t-------\n",
      "1 \t   |\t -1.500\n",
      "2 \t   |\t -2.542\n",
      "3 \t   |\t -2.158\n",
      "4 \t   |\t -1.985\n",
      "5 \t   |\t -1.949\n",
      "6 \t   |\t -1.947\n",
      "7 \t   |\t -1.947\n",
      "the root of the equation is -1.947 which we obtatine in 7 steps\n"
     ]
    }
   ],
   "source": [
    "\n",
    "def fun(x):\n",
    "    y=x**4-3*x**2-3\n",
    "    return y\n",
    "\n",
    "def fun_der(x):\n",
    "    z=4*x**3-6*x\n",
    "    return z\n",
    "\n",
    "x0=1\n",
    "eps=0.0005\n",
    "diff= 1\n",
    "count=1\n",
    "print(\"Iteration  |\\t Root\")\n",
    "print(\"---------- \\t-------\")\n",
    "while diff>=eps:\n",
    "    x1=x0-(fun(x0)/fun_der(x0))\n",
    "    diff=abs(x1-x0)\n",
    "    x0=x1\n",
    "   \n",
    "    print(f\"{count} \\t   |\\t {x1:.3f}\")\n",
    "    count=count+1\n",
    "\n",
    "print(f\"the root of the equation is {x1:.3f} which we obtatine in {count-1} steps\")\n"
   ]
  },
  {
   "cell_type": "markdown",
   "metadata": {},
   "source": [
    "## Bisection method"
   ]
  },
  {
   "cell_type": "code",
   "execution_count": 1,
   "metadata": {},
   "outputs": [],
   "source": [
    "import math\n",
    "import numpy as np\n",
    "\n",
    "def fun(x):\n",
    "    y=2*x*np.cos(2*x)-(x+1)**2\n",
    "    return y"
   ]
  },
  {
   "cell_type": "code",
   "execution_count": 30,
   "metadata": {},
   "outputs": [
    {
     "name": "stdout",
     "output_type": "stream",
     "text": [
      "    Iteration\t\ta\t\t b\t\t x1\t\t f(x1)\n",
      "    ----------\t\t---------\t-------\t\t-------\t\t---------\n",
      "\t1\t\t-2.50000\t-2.00000\t-2.50000\t-3.66831\n",
      "\t2\t\t-2.25000\t-2.00000\t-2.25000\t-0.61392\n",
      "\t3\t\t-2.25000\t-2.12500\t-2.12500\t0.63025\n",
      "\t4\t\t-2.25000\t-2.18750\t-2.18750\t0.03808\n",
      "\t5\t\t-2.21875\t-2.18750\t-2.21875\t-0.28084\n",
      "\t6\t\t-2.20312\t-2.18750\t-2.20312\t-0.11956\n",
      "\t7\t\t-2.19531\t-2.18750\t-2.19531\t-0.04028\n",
      "\t8\t\t-2.19141\t-2.18750\t-2.19141\t-0.00099\n",
      "\t9\t\t-2.19141\t-2.18945\t-2.18945\t0.01857\n",
      "\t10\t\t-2.19141\t-2.19043\t-2.19043\t0.00880\n",
      "\t11\t\t-2.19141\t-2.19092\t-2.19092\t0.00391\n",
      "\n",
      "the root is -2.191 and total iteration taken is 11\n"
     ]
    }
   ],
   "source": [
    "a=-3\n",
    "b=-2\n",
    "eps=0.0005\n",
    "diff= 1\n",
    "count=1\n",
    "print(\"    Iteration\\t\\ta\\t\\t b\\t\\t x1\\t\\t f(x1)\")\n",
    "print(\"    ----------\\t\\t---------\\t-------\\t\\t-------\\t\\t---------\")\n",
    "\n",
    "while (abs(b-a))>eps:\n",
    "    x1=(a+b)/2\n",
    "\n",
    "    if fun(a)*fun(x1)<0:\n",
    "        b=x1\n",
    "    elif fun(x1)*fun(b)<0:\n",
    "        a=x1\n",
    "    else:\n",
    "        print(f\"Root is {x1}\")\n",
    "        break\n",
    "    print(f\"\\t{count}\\t\\t{a:.5f}\\t{b:.5f}\\t{x1:.5f}\\t{fun(x1):.5f}\")\n",
    "    count=count+1\n",
    " \n",
    "print(f\"\\nthe root is {x1:.3f} and total iteration taken is {count-1}\")"
   ]
  },
  {
   "cell_type": "code",
   "execution_count": null,
   "metadata": {},
   "outputs": [],
   "source": []
  }
 ],
 "metadata": {
  "kernelspec": {
   "display_name": "Python 3",
   "language": "python",
   "name": "python3"
  },
  "language_info": {
   "codemirror_mode": {
    "name": "ipython",
    "version": 3
   },
   "file_extension": ".py",
   "mimetype": "text/x-python",
   "name": "python",
   "nbconvert_exporter": "python",
   "pygments_lexer": "ipython3",
   "version": "3.11.4"
  },
  "orig_nbformat": 4
 },
 "nbformat": 4,
 "nbformat_minor": 2
}
