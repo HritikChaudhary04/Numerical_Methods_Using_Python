{
 "cells": [
  {
   "cell_type": "markdown",
   "metadata": {},
   "source": [
    "### Implementation of trapezoid rule of integration by Hritik Chaudhary CM-21\n"
   ]
  },
  {
   "cell_type": "code",
   "execution_count": 1,
   "metadata": {},
   "outputs": [],
   "source": [
    "import numpy as np\n",
    "import math"
   ]
  },
  {
   "cell_type": "code",
   "execution_count": 13,
   "metadata": {},
   "outputs": [
    {
     "name": "stdout",
     "output_type": "stream",
     "text": [
      "for h = 0.1\n",
      "\n",
      "The approximation of integral for step 20 is 1.485\n",
      "for h = 0.06666666666666667\n",
      "\n",
      "The approximation of integral for step 30 is 1.490\n",
      "for h = 0.05\n",
      "\n",
      "The approximation of integral for step 40 is 1.491\n",
      "for h = 0.04\n",
      "\n",
      "The approximation of integral for step 50 is 1.492\n",
      "for h = 0.02\n",
      "\n",
      "The approximation of integral for step 100 is 1.493\n",
      "for h = 0.002\n",
      "\n",
      "The approximation of integral for step 1000 is 1.494\n"
     ]
    }
   ],
   "source": [
    "def fun(x): #function define garne\n",
    "    y=np.exp(-x**2)\n",
    "    return y\n",
    "\n",
    "def trap(a,b,n):\n",
    "    h=np.abs((b-a)/n) #division width calculate garne\n",
    "    print(f'for h = {h}\\n')\n",
    "    sum=fun(a)+fun(b) # first ra last element add gareko\n",
    "    i=0\n",
    "    while i+1<n:\n",
    "        sum=sum+2*fun(a+i*h)   # yo bhaneko take value 1 step badhayera as h hamle 20 divion ko lagi nikalisakium ani first ra last baheko sab lai 2\n",
    "                               # le multiply garera add garne\n",
    "        i=i+1\n",
    "    sum=(h/2)*sum              # last ma sabailai h/2 le multiply garyo bhane hamro formula sanga equivalent huncha\n",
    "    return sum\n",
    "\n",
    "a=-1\n",
    "b=1\n",
    "\n",
    "n_value=[20,30,40,50,100,1000]\n",
    "\n",
    "for n in n_value:\n",
    "    print(f'The approximation of integral for step {n} is {trap(a,b,n):.3f}')  \n",
    "    \n",
    "        "
   ]
  },
  {
   "cell_type": "code",
   "execution_count": null,
   "metadata": {},
   "outputs": [],
   "source": []
  },
  {
   "cell_type": "code",
   "execution_count": null,
   "metadata": {},
   "outputs": [],
   "source": []
  }
 ],
 "metadata": {
  "kernelspec": {
   "display_name": "Python 3",
   "language": "python",
   "name": "python3"
  },
  "language_info": {
   "codemirror_mode": {
    "name": "ipython",
    "version": 3
   },
   "file_extension": ".py",
   "mimetype": "text/x-python",
   "name": "python",
   "nbconvert_exporter": "python",
   "pygments_lexer": "ipython3",
   "version": "3.11.4"
  }
 },
 "nbformat": 4,
 "nbformat_minor": 2
}
