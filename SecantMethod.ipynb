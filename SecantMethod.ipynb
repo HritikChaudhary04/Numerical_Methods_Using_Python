{
 "cells": [
  {
   "cell_type": "code",
   "execution_count": 7,
   "metadata": {},
   "outputs": [],
   "source": [
    "import math\n",
    "import numpy as np\n",
    "from sympy import *"
   ]
  },
  {
   "cell_type": "code",
   "execution_count": 8,
   "metadata": {},
   "outputs": [],
   "source": [
    "def fun(x):\n",
    "    y=x**2.2-69\n",
    "    return y\n",
    "\n",
    "def root(x0,x1,eps):\n",
    "    diff= 1\n",
    "    count=1\n",
    "    print(\"Iteration  |\\t Root\")\n",
    "    print(\"---------- \\t-------\")\n",
    "    while diff>=eps:\n",
    "        x2=((x0*fun(x1)-x1*fun(x0))/(fun(x1)-fun(x0)))\n",
    "        diff=abs(x2-x1)\n",
    "        x0=x1\n",
    "        x1=x2\n",
    "    \n",
    "        print(f\"{count} \\t   |\\t {x2:.3f}\")\n",
    "        \n",
    "        count=count+1\n",
    "    return(x2,count)"
   ]
  },
  {
   "cell_type": "code",
   "execution_count": 9,
   "metadata": {},
   "outputs": [
    {
     "name": "stdout",
     "output_type": "stream",
     "text": [
      "Iteration  |\t Root\n",
      "---------- \t-------\n",
      "1 \t   |\t 6.656\n",
      "2 \t   |\t 6.834\n",
      "3 \t   |\t 6.853\n",
      "4 \t   |\t 6.852\n",
      "\n",
      "the root is 6.85 and total iteration taken is 4\n"
     ]
    }
   ],
   "source": [
    "x0=float(input(\"Enter the first intial guess \"))\n",
    "x1=float(input(\"Enter the second intial guess \"))\n",
    "eps=float(input(\"Enter the value of epsilon\"))\n",
    "\n",
    "x2,count=root(x0,x1,eps)\n",
    "\n",
    "print(f\"\\nthe root is {x2:.2f} and total iteration taken is {count-1}\")"
   ]
  }
 ],
 "metadata": {
  "kernelspec": {
   "display_name": "Python 3",
   "language": "python",
   "name": "python3"
  },
  "language_info": {
   "codemirror_mode": {
    "name": "ipython",
    "version": 3
   },
   "file_extension": ".py",
   "mimetype": "text/x-python",
   "name": "python",
   "nbconvert_exporter": "python",
   "pygments_lexer": "ipython3",
   "version": "3.11.4"
  },
  "orig_nbformat": 4
 },
 "nbformat": 4,
 "nbformat_minor": 2
}
