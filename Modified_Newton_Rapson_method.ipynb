{
 "cells": [
  {
   "cell_type": "code",
   "execution_count": 12,
   "metadata": {},
   "outputs": [],
   "source": [
    "import math\n",
    "import numpy as np\n",
    "from sympy import *"
   ]
  },
  {
   "cell_type": "code",
   "execution_count": 13,
   "metadata": {},
   "outputs": [],
   "source": [
    "a=symbols('a')\n",
    "z=a**3-a**2-a+1\n",
    "def fun(x):\n",
    "    y=x**3-x**2-x+1\n",
    "    return y\n",
    "\n",
    "\n",
    "def fun_der_exp(ex):\n",
    "    return diff(ex,a)\n",
    "\n",
    "\n",
    "def fun_der(ex,x):\n",
    "    \n",
    "    return (diff(ex,a).subs(a,x))\n",
    "\n",
    "def root(x0,eps):\n",
    "    diff= 1\n",
    "    count=1\n",
    "    print(\"Iteration  |\\t Root\")\n",
    "    print(\"---------- \\t-------\")\n",
    "    while diff>=eps:\n",
    "        x1=x0-(fun(x0)/fun_der(z,x0))\n",
    "        diff=abs(x1-x0)\n",
    "        x0=x1\n",
    "    \n",
    "        print(f\"{count} \\t   |\\t {x1:.3f}\")\n",
    "        count=count+1\n",
    "    \n",
    "    if isinstance(x1, complex):\n",
    "        return \"The root is a complex number.\"\n",
    "    else:\n",
    "        return (f\"The root is {x1:.3f} and total iterations taken is {count - 1}\",round(x1,3))\n",
    "    \n"
   ]
  },
  {
   "cell_type": "code",
   "execution_count": 14,
   "metadata": {},
   "outputs": [
    {
     "name": "stdout",
     "output_type": "stream",
     "text": [
      "Iteration  |\t Root\n",
      "---------- \t-------\n",
      "1 \t   |\t 0.906\n",
      "2 \t   |\t 0.954\n",
      "3 \t   |\t 0.977\n",
      "4 \t   |\t 0.989\n",
      "5 \t   |\t 0.994\n",
      "6 \t   |\t 0.997\n",
      "7 \t   |\t 0.999\n",
      "8 \t   |\t 0.999\n",
      "9 \t   |\t 1.000\n",
      "10 \t   |\t 1.000\n",
      "11 \t   |\t 1.000\n",
      "12 \t   |\t 1.000\n",
      "The root is 1.000 and total iterations taken is 12\n",
      "a**3 - a**2 - a + 1\n",
      "m=2\n",
      "1.0118\n",
      "1.0000\n"
     ]
    }
   ],
   "source": [
    "x0=float(input(\"Enter the intial guess \"))\n",
    "eps=float(input(\"Enter the value of epsilon\"))\n",
    "\n",
    "result,x1=root(x0,eps)\n",
    "\n",
    "print(result)\n",
    "\n",
    "c=z\n",
    "print(c)\n",
    "m=1\n",
    "\n",
    "b=round(fun(x1),0)\n",
    "while(b == 0.0):\n",
    "    \n",
    "    c=fun_der_exp(c)\n",
    "    b=round(fun_der(c,x1),0)\n",
    "    m=m+1\n",
    "    \n",
    "print(f\"m={m}\")\n",
    "\n",
    "t=0\n",
    "while(t<m):\n",
    "    x5=x0-m*(fun(x0)/fun_der(z,x0))\n",
    "    \n",
    "    if not math.isnan(x5):\n",
    "        print(f\"{x5:.4f}\")\n",
    "    else:\n",
    "        print(\"Newton-Raphson method did not converge.\")\n",
    "        break\n",
    "    \n",
    "    t = t+1\n",
    "    x0=x5\n",
    "\n",
    "    "
   ]
  },
  {
   "cell_type": "code",
   "execution_count": null,
   "metadata": {},
   "outputs": [],
   "source": []
  },
  {
   "cell_type": "code",
   "execution_count": 7,
   "metadata": {},
   "outputs": [],
   "source": [
    "import math\n",
    "import numpy as np\n",
    "from sympy import *"
   ]
  },
  {
   "cell_type": "code",
   "execution_count": 8,
   "metadata": {},
   "outputs": [],
   "source": [
    "a=symbols('a')\n",
    "z=(a-2)*(a+2)**3\n",
    "def fun(x):\n",
    "    y=(x-2)*(x+2)**3\n",
    "    return y\n",
    "\n",
    "\n",
    "def fun_der_exp(ex):\n",
    "    return diff(ex,a)\n",
    "\n",
    "\n",
    "def fun_der(ex,x):\n",
    "    \n",
    "    return (diff(ex,a).subs(a,x))\n",
    "\n",
    "def root(x0,eps):\n",
    "    diff= 1\n",
    "    count=1\n",
    "    print(\"Iteration  |\\t Root\")\n",
    "    print(\"---------- \\t-------\")\n",
    "    while diff>=eps:\n",
    "        x1=x0-(fun(x0)/fun_der(z,x0))\n",
    "        diff=abs(x1-x0)\n",
    "        x0=x1\n",
    "    \n",
    "        print(f\"{count} \\t   |\\t {x1:.3f}\")\n",
    "        count=count+1\n",
    "    \n",
    "    if isinstance(x1, complex):\n",
    "        return \"The root is a complex number.\"\n",
    "    else:\n",
    "        return (f\"The root is {x1:.3f} and total iterations taken is {count - 1}\",round(x1,3))"
   ]
  },
  {
   "cell_type": "code",
   "execution_count": 9,
   "metadata": {},
   "outputs": [
    {
     "name": "stdout",
     "output_type": "stream",
     "text": [
      "Iteration  |\t Root\n",
      "---------- \t-------\n",
      "1 \t   |\t 2.375\n",
      "2 \t   |\t 2.077\n",
      "3 \t   |\t 2.004\n",
      "4 \t   |\t 2.000\n",
      "5 \t   |\t 2.000\n",
      "The root is 2.000 and total iterations taken is 5\n",
      "(a - 2)*(a + 2)**3\n",
      "96.0000000000000\n",
      "m=1\n",
      "2.3750\n"
     ]
    }
   ],
   "source": [
    "x0=float(input(\"Enter the intial guess \"))\n",
    "eps=float(input(\"Enter the value of epsilon\"))\n",
    "\n",
    "result,x1=root(x0,eps)\n",
    "\n",
    "print(result)\n",
    "\n",
    "c=z\n",
    "print(c)\n",
    "m=0\n",
    "\n",
    "b=round(fun(x1),0)\n",
    "while(b == 0.0):\n",
    "    m=m+1\n",
    "    c=fun_der_exp(c)\n",
    "    b=round(fun_der(c,x1),0)\n",
    "    print(b)\n",
    "        \n",
    "print(f\"m={m}\")\n",
    "\n",
    "t=0\n",
    "while(t<m):\n",
    "    x5=x0-m*(fun(x0)/fun_der(z,x0))\n",
    "    print(f\"{x5:.4f}\")\n",
    "    t = t+1\n",
    "    x0=x5"
   ]
  }
 ],
 "metadata": {
  "kernelspec": {
   "display_name": "Python 3",
   "language": "python",
   "name": "python3"
  },
  "language_info": {
   "codemirror_mode": {
    "name": "ipython",
    "version": 3
   },
   "file_extension": ".py",
   "mimetype": "text/x-python",
   "name": "python",
   "nbconvert_exporter": "python",
   "pygments_lexer": "ipython3",
   "version": "3.11.4"
  },
  "orig_nbformat": 4
 },
 "nbformat": 4,
 "nbformat_minor": 2
}
